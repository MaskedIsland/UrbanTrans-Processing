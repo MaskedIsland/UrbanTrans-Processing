{
 "cells": [
  {
   "cell_type": "code",
   "execution_count": 1,
   "metadata": {
    "ExecuteTime": {
     "end_time": "2021-03-29T02:44:32.417313Z",
     "start_time": "2021-03-29T02:44:31.735980Z"
    }
   },
   "outputs": [],
   "source": [
    "import json\n",
    "import requests\n",
    "import time,sys\n",
    "import sqlite3,random\n",
    "import pandas as pd"
   ]
  },
  {
   "cell_type": "code",
   "execution_count": 6,
   "metadata": {
    "ExecuteTime": {
     "end_time": "2021-03-21T02:09:02.409260Z",
     "start_time": "2021-03-21T02:09:02.394259Z"
    }
   },
   "outputs": [],
   "source": [
    "def get_data(page_index, url_amap):\n",
    "    \"\"\"\n",
    "    page_index: 当前页码\n",
    "    \n",
    "    return: poi列表\n",
    "    \"\"\"\n",
    "    global df\n",
    "    time.sleep(0.5)\n",
    "    print('解析页码: ' + str(page_index) + '... ...')\n",
    "    response = requests.get(url_amap)\n",
    "    poi_json = response.json()\n",
    "\n",
    "    if poi_json.get(\"info\")==\"DAILY_QUERY_OVER_LIMIT\":\n",
    "        print('key超过限制了，换一个')\n",
    "        print(poi_json)\n",
    "        return \"limit\"\n",
    "\n",
    "    poi_lists = poi_json.get(\"pois\")\n",
    "    if poi_lists != None or '':\n",
    "        if len(poi_json.get(\"pois\"))<1:\n",
    "            return False\n",
    "        for poi in poi_lists:\n",
    "            poi_list = {\n",
    "                'id' : poi.get('id'),\n",
    "                'name': poi.get('name'),\n",
    "                'type': poi.get('type'),\n",
    "                'location':poi.get('location'),\n",
    "                'citycode':poi.get('citycode')\n",
    "            }\n",
    "            df = df.append(poi_list,ignore_index=True)\n",
    "    else:\n",
    "        pass\n",
    "    return poi_json.get(\"pois\")\n",
    "\n",
    "def getPOIdata(poicode_now):\n",
    "    \"\"\"\n",
    "    poicode_now: 当前的poi编码\n",
    "    \n",
    "    Returns: 获取成功与否\n",
    "    \"\"\"\n",
    "    \n",
    "    global keys\n",
    "    page=1\n",
    "    while True:\n",
    "        key = keys[0]\n",
    "        # 矩形区域\n",
    "        url_amap = 'http://restapi.amap.com/v3/place/polygon?key={}&types={}&polygon=119.9919,30.4627|120.4784,30.1334&&children=1&offset=25&page={}&extensions=all'.format(key,poicode_now,page)\n",
    "        json_data = get_data(page, url_amap)\n",
    "\n",
    "        if json_data==\"limit\":\n",
    "            keys.remove(key)\n",
    "            if len(key_pool)<1:\n",
    "                print('key没存货啦！')\n",
    "                return False\n",
    "            continue\n",
    "        if not json_data:\n",
    "            print('当前类别爬完了')\n",
    "            break\n",
    "        page+=1\n",
    "    return True\n"
   ]
  },
  {
   "cell_type": "code",
   "execution_count": 3,
   "metadata": {
    "ExecuteTime": {
     "end_time": "2021-03-29T02:46:23.826933Z",
     "start_time": "2021-03-29T02:46:23.808722Z"
    }
   },
   "outputs": [
    {
     "data": {
      "text/plain": [
       "869"
      ]
     },
     "execution_count": 3,
     "metadata": {},
     "output_type": "execute_result"
    }
   ],
   "source": [
    "amap = pd.read_csv('../data/amap_poicode.CSV', index_col=False)\n",
    "amap.shape[0]-1"
   ]
  },
  {
   "cell_type": "code",
   "execution_count": null,
   "metadata": {
    "ExecuteTime": {
     "end_time": "2021-03-21T04:15:57.713117Z",
     "start_time": "2021-03-21T02:11:00.398936Z"
    },
    "scrolled": true
   },
   "outputs": [],
   "source": [
    "#全局结果\n",
    "global df\n",
    "df = pd.DataFrame(columns=['id','name','type','location','citycode'])\n",
    "global keys;\n",
    "# 备用的key\n",
    "keys=['id1', 'id2', 'id3'];\n",
    "# 开始爬取\n",
    "print('当前的key为',keys[0],'........')\n",
    "for j in range(len(poicode)):\n",
    "    poicode_now=poicode[j]\n",
    "    print('第',j,'个类别了，代码为',poicode_now,'一共',len(poicode), '个类别')\n",
    "    result=getPOIdata(poicode_now)\n",
    "    if not result: # key的额度不够了，就先退出程序\n",
    "        print('当前城市序号为',y,'，当前类别序号为',j)\n",
    "        sys.exit(1)"
   ]
  },
  {
   "cell_type": "code",
   "execution_count": 30,
   "metadata": {
    "ExecuteTime": {
     "end_time": "2021-03-21T06:36:52.886992Z",
     "start_time": "2021-03-21T06:36:52.403580Z"
    }
   },
   "outputs": [],
   "source": [
    "df.to_csv('../clean_data/hangzhou_pois.csv',encoding=\"utf_8_sig\")"
   ]
  },
  {
   "cell_type": "code",
   "execution_count": 28,
   "metadata": {
    "ExecuteTime": {
     "end_time": "2021-03-21T06:34:34.713992Z",
     "start_time": "2021-03-21T06:34:34.708559Z"
    }
   },
   "outputs": [],
   "source": [
    "del df['index']"
   ]
  },
  {
   "cell_type": "code",
   "execution_count": 12,
   "metadata": {
    "ExecuteTime": {
     "end_time": "2021-03-21T04:35:36.951691Z",
     "start_time": "2021-03-21T04:35:36.877117Z"
    }
   },
   "outputs": [],
   "source": [
    "# id去重\n",
    "data.drop_duplicates(subset=['id'], keep='first', inplace=True)"
   ]
  },
  {
   "cell_type": "code",
   "execution_count": 73,
   "metadata": {
    "ExecuteTime": {
     "end_time": "2021-02-08T14:27:17.790263Z",
     "start_time": "2021-02-08T14:27:15.917332Z"
    }
   },
   "outputs": [],
   "source": [
    "df.to_csv(\"../../data/beijing_pois.csv\",encoding=\"utf_8_sig\",index=False)"
   ]
  }
 ],
 "metadata": {
  "kernelspec": {
   "display_name": "Python 3",
   "language": "python",
   "name": "python3"
  },
  "language_info": {
   "codemirror_mode": {
    "name": "ipython",
    "version": 3
   },
   "file_extension": ".py",
   "mimetype": "text/x-python",
   "name": "python",
   "nbconvert_exporter": "python",
   "pygments_lexer": "ipython3",
   "version": "3.7.6"
  }
 },
 "nbformat": 4,
 "nbformat_minor": 4
}
