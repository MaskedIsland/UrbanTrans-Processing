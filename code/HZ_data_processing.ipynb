{
 "cells": [
  {
   "cell_type": "code",
   "execution_count": 1,
   "metadata": {
    "ExecuteTime": {
     "end_time": "2021-03-29T01:30:46.403626Z",
     "start_time": "2021-03-29T01:30:45.042742Z"
    }
   },
   "outputs": [
    {
     "name": "stderr",
     "output_type": "stream",
     "text": [
      "/Users/wuyuhan/anaconda3/lib/python3.7/site-packages/tqdm/std.py:668: FutureWarning: The Panel class is removed from pandas. Accessing it from the top-level namespace will also be removed in the next version\n",
      "  from pandas import Panel\n"
     ]
    }
   ],
   "source": [
    "import numpy as np\n",
    "import pandas as pd\n",
    "import sys\n",
    "import matplotlib.pyplot as plt\n",
    "import random\n",
    "import copy\n",
    "import datetime\n",
    "import time\n",
    "import utm\n",
    "from collections import Counter\n",
    "from utm import from_latlon\n",
    "# import conversion\n",
    "sys.path.append('./utils')\n",
    "from tqdm import tqdm\n",
    "tqdm.pandas(desc=\"Progress\")\n",
    "import os\n",
    "import seaborn as sns\n",
    "%matplotlib inline"
   ]
  },
  {
   "cell_type": "code",
   "execution_count": 22,
   "metadata": {
    "ExecuteTime": {
     "end_time": "2021-03-29T02:21:01.965940Z",
     "start_time": "2021-03-29T02:21:01.963805Z"
    }
   },
   "outputs": [],
   "source": [
    "####################################################\n",
    "# poi数据处理\n",
    "####################################################"
   ]
  },
  {
   "cell_type": "code",
   "execution_count": 18,
   "metadata": {
    "ExecuteTime": {
     "end_time": "2021-03-29T01:35:16.898976Z",
     "start_time": "2021-03-29T01:35:16.564222Z"
    }
   },
   "outputs": [
    {
     "data": {
      "text/html": [
       "<div>\n",
       "<style scoped>\n",
       "    .dataframe tbody tr th:only-of-type {\n",
       "        vertical-align: middle;\n",
       "    }\n",
       "\n",
       "    .dataframe tbody tr th {\n",
       "        vertical-align: top;\n",
       "    }\n",
       "\n",
       "    .dataframe thead th {\n",
       "        text-align: right;\n",
       "    }\n",
       "</style>\n",
       "<table border=\"1\" class=\"dataframe\">\n",
       "  <thead>\n",
       "    <tr style=\"text-align: right;\">\n",
       "      <th></th>\n",
       "      <th>citycode</th>\n",
       "    </tr>\n",
       "  </thead>\n",
       "  <tbody>\n",
       "    <tr>\n",
       "      <th>count</th>\n",
       "      <td>119732.000000</td>\n",
       "    </tr>\n",
       "    <tr>\n",
       "      <th>mean</th>\n",
       "      <td>571.027369</td>\n",
       "    </tr>\n",
       "    <tr>\n",
       "      <th>std</th>\n",
       "      <td>0.251401</td>\n",
       "    </tr>\n",
       "    <tr>\n",
       "      <th>min</th>\n",
       "      <td>571.000000</td>\n",
       "    </tr>\n",
       "    <tr>\n",
       "      <th>25%</th>\n",
       "      <td>571.000000</td>\n",
       "    </tr>\n",
       "    <tr>\n",
       "      <th>50%</th>\n",
       "      <td>571.000000</td>\n",
       "    </tr>\n",
       "    <tr>\n",
       "      <th>75%</th>\n",
       "      <td>571.000000</td>\n",
       "    </tr>\n",
       "    <tr>\n",
       "      <th>max</th>\n",
       "      <td>575.000000</td>\n",
       "    </tr>\n",
       "  </tbody>\n",
       "</table>\n",
       "</div>"
      ],
      "text/plain": [
       "            citycode\n",
       "count  119732.000000\n",
       "mean      571.027369\n",
       "std         0.251401\n",
       "min       571.000000\n",
       "25%       571.000000\n",
       "50%       571.000000\n",
       "75%       571.000000\n",
       "max       575.000000"
      ]
     },
     "execution_count": 18,
     "metadata": {},
     "output_type": "execute_result"
    }
   ],
   "source": [
    "filepath = r'../clean_data/hangzhou_pois.csv'\n",
    "data = pd.read_csv(filepath,index_col=0)\n",
    "data.describe()"
   ]
  },
  {
   "cell_type": "code",
   "execution_count": 20,
   "metadata": {
    "ExecuteTime": {
     "end_time": "2021-03-29T01:35:27.896199Z",
     "start_time": "2021-03-29T01:35:27.835417Z"
    }
   },
   "outputs": [
    {
     "data": {
      "text/html": [
       "<div>\n",
       "<style scoped>\n",
       "    .dataframe tbody tr th:only-of-type {\n",
       "        vertical-align: middle;\n",
       "    }\n",
       "\n",
       "    .dataframe tbody tr th {\n",
       "        vertical-align: top;\n",
       "    }\n",
       "\n",
       "    .dataframe thead th {\n",
       "        text-align: right;\n",
       "    }\n",
       "</style>\n",
       "<table border=\"1\" class=\"dataframe\">\n",
       "  <thead>\n",
       "    <tr style=\"text-align: right;\">\n",
       "      <th></th>\n",
       "      <th>citycode</th>\n",
       "    </tr>\n",
       "  </thead>\n",
       "  <tbody>\n",
       "    <tr>\n",
       "      <th>count</th>\n",
       "      <td>119732.000000</td>\n",
       "    </tr>\n",
       "    <tr>\n",
       "      <th>mean</th>\n",
       "      <td>571.027369</td>\n",
       "    </tr>\n",
       "    <tr>\n",
       "      <th>std</th>\n",
       "      <td>0.251401</td>\n",
       "    </tr>\n",
       "    <tr>\n",
       "      <th>min</th>\n",
       "      <td>571.000000</td>\n",
       "    </tr>\n",
       "    <tr>\n",
       "      <th>25%</th>\n",
       "      <td>571.000000</td>\n",
       "    </tr>\n",
       "    <tr>\n",
       "      <th>50%</th>\n",
       "      <td>571.000000</td>\n",
       "    </tr>\n",
       "    <tr>\n",
       "      <th>75%</th>\n",
       "      <td>571.000000</td>\n",
       "    </tr>\n",
       "    <tr>\n",
       "      <th>max</th>\n",
       "      <td>575.000000</td>\n",
       "    </tr>\n",
       "  </tbody>\n",
       "</table>\n",
       "</div>"
      ],
      "text/plain": [
       "            citycode\n",
       "count  119732.000000\n",
       "mean      571.027369\n",
       "std         0.251401\n",
       "min       571.000000\n",
       "25%       571.000000\n",
       "50%       571.000000\n",
       "75%       571.000000\n",
       "max       575.000000"
      ]
     },
     "execution_count": 20,
     "metadata": {},
     "output_type": "execute_result"
    }
   ],
   "source": [
    "# id去重\n",
    "data.drop_duplicates(subset=['id'], keep='first', inplace=True)\n",
    "# 删除多余属性，name\n",
    "del data['name']\n",
    "data.describe()"
   ]
  },
  {
   "cell_type": "code",
   "execution_count": 21,
   "metadata": {
    "ExecuteTime": {
     "end_time": "2021-03-29T02:05:41.927322Z",
     "start_time": "2021-03-29T02:05:41.923542Z"
    }
   },
   "outputs": [],
   "source": [
    "del data['citycode']"
   ]
  },
  {
   "cell_type": "code",
   "execution_count": 5,
   "metadata": {
    "ExecuteTime": {
     "end_time": "2021-03-27T01:37:56.324651Z",
     "start_time": "2021-03-27T01:37:55.962816Z"
    }
   },
   "outputs": [
    {
     "data": {
      "text/html": [
       "<div>\n",
       "<style scoped>\n",
       "    .dataframe tbody tr th:only-of-type {\n",
       "        vertical-align: middle;\n",
       "    }\n",
       "\n",
       "    .dataframe tbody tr th {\n",
       "        vertical-align: top;\n",
       "    }\n",
       "\n",
       "    .dataframe thead th {\n",
       "        text-align: right;\n",
       "    }\n",
       "</style>\n",
       "<table border=\"1\" class=\"dataframe\">\n",
       "  <thead>\n",
       "    <tr style=\"text-align: right;\">\n",
       "      <th></th>\n",
       "      <th>id</th>\n",
       "      <th>type</th>\n",
       "      <th>location</th>\n",
       "    </tr>\n",
       "  </thead>\n",
       "  <tbody>\n",
       "    <tr>\n",
       "      <th>count</th>\n",
       "      <td>119732</td>\n",
       "      <td>119732</td>\n",
       "      <td>119732</td>\n",
       "    </tr>\n",
       "    <tr>\n",
       "      <th>unique</th>\n",
       "      <td>119732</td>\n",
       "      <td>2310</td>\n",
       "      <td>116331</td>\n",
       "    </tr>\n",
       "    <tr>\n",
       "      <th>top</th>\n",
       "      <td>B023B16CAQ</td>\n",
       "      <td>商务住宅;楼宇;商务写字楼</td>\n",
       "      <td>120.275826,30.316706</td>\n",
       "    </tr>\n",
       "    <tr>\n",
       "      <th>freq</th>\n",
       "      <td>1</td>\n",
       "      <td>1105</td>\n",
       "      <td>58</td>\n",
       "    </tr>\n",
       "  </tbody>\n",
       "</table>\n",
       "</div>"
      ],
      "text/plain": [
       "                id           type              location\n",
       "count       119732         119732                119732\n",
       "unique      119732           2310                116331\n",
       "top     B023B16CAQ  商务住宅;楼宇;商务写字楼  120.275826,30.316706\n",
       "freq             1           1105                    58"
      ]
     },
     "execution_count": 5,
     "metadata": {},
     "output_type": "execute_result"
    }
   ],
   "source": [
    "data.describe()"
   ]
  },
  {
   "cell_type": "code",
   "execution_count": 6,
   "metadata": {
    "ExecuteTime": {
     "end_time": "2021-03-27T01:37:58.098767Z",
     "start_time": "2021-03-27T01:37:58.020844Z"
    }
   },
   "outputs": [],
   "source": [
    "# 把第一和第二类别抽取出来\n",
    "types = data['type'].values\n",
    "all_types = []\n",
    "for x in types:\n",
    "    k = x.split(';')\n",
    "    all_types.append(k[0]+';'+k[1])\n",
    "data['type'] = all_types"
   ]
  },
  {
   "cell_type": "code",
   "execution_count": 7,
   "metadata": {
    "ExecuteTime": {
     "end_time": "2021-03-27T01:38:00.789519Z",
     "start_time": "2021-03-27T01:37:59.334137Z"
    }
   },
   "outputs": [
    {
     "name": "stderr",
     "output_type": "stream",
     "text": [
      "Progress: 100%|██████████| 119732/119732 [00:01<00:00, 106389.01it/s]\n"
     ]
    },
    {
     "data": {
      "text/html": [
       "<div>\n",
       "<style scoped>\n",
       "    .dataframe tbody tr th:only-of-type {\n",
       "        vertical-align: middle;\n",
       "    }\n",
       "\n",
       "    .dataframe tbody tr th {\n",
       "        vertical-align: top;\n",
       "    }\n",
       "\n",
       "    .dataframe thead th {\n",
       "        text-align: right;\n",
       "    }\n",
       "</style>\n",
       "<table border=\"1\" class=\"dataframe\">\n",
       "  <thead>\n",
       "    <tr style=\"text-align: right;\">\n",
       "      <th></th>\n",
       "      <th>id</th>\n",
       "      <th>type</th>\n",
       "      <th>location</th>\n",
       "      <th>type0</th>\n",
       "      <th>type1</th>\n",
       "    </tr>\n",
       "  </thead>\n",
       "  <tbody>\n",
       "    <tr>\n",
       "      <th>count</th>\n",
       "      <td>119732</td>\n",
       "      <td>119732</td>\n",
       "      <td>119732</td>\n",
       "      <td>119732</td>\n",
       "      <td>119732</td>\n",
       "    </tr>\n",
       "    <tr>\n",
       "      <th>unique</th>\n",
       "      <td>119732</td>\n",
       "      <td>227</td>\n",
       "      <td>116331</td>\n",
       "      <td>23</td>\n",
       "      <td>227</td>\n",
       "    </tr>\n",
       "    <tr>\n",
       "      <th>top</th>\n",
       "      <td>B023B16CAQ</td>\n",
       "      <td>购物服务;专卖店</td>\n",
       "      <td>120.275826,30.316706</td>\n",
       "      <td>购物服务</td>\n",
       "      <td>专卖店</td>\n",
       "    </tr>\n",
       "    <tr>\n",
       "      <th>freq</th>\n",
       "      <td>1</td>\n",
       "      <td>6867</td>\n",
       "      <td>58</td>\n",
       "      <td>24792</td>\n",
       "      <td>6867</td>\n",
       "    </tr>\n",
       "  </tbody>\n",
       "</table>\n",
       "</div>"
      ],
      "text/plain": [
       "                id      type              location   type0   type1\n",
       "count       119732    119732                119732  119732  119732\n",
       "unique      119732       227                116331      23     227\n",
       "top     B023B16CAQ  购物服务;专卖店  120.275826,30.316706    购物服务     专卖店\n",
       "freq             1      6867                    58   24792    6867"
      ]
     },
     "execution_count": 7,
     "metadata": {},
     "output_type": "execute_result"
    }
   ],
   "source": [
    "def get_types(row):\n",
    "    types = row['type']\n",
    "    k = types.split(';')\n",
    "    return k[0], k[1]\n",
    "\n",
    "data['type0'],data['type1'] = zip(*data.progress_apply(get_types, axis=1))\n",
    "data.describe()"
   ]
  },
  {
   "cell_type": "code",
   "execution_count": 8,
   "metadata": {
    "ExecuteTime": {
     "end_time": "2021-03-27T01:38:26.783637Z",
     "start_time": "2021-03-27T01:38:24.748687Z"
    }
   },
   "outputs": [
    {
     "name": "stderr",
     "output_type": "stream",
     "text": [
      "Progress: 100%|██████████| 119732/119732 [00:01<00:00, 65809.93it/s]\n"
     ]
    },
    {
     "data": {
      "text/html": [
       "<div>\n",
       "<style scoped>\n",
       "    .dataframe tbody tr th:only-of-type {\n",
       "        vertical-align: middle;\n",
       "    }\n",
       "\n",
       "    .dataframe tbody tr th {\n",
       "        vertical-align: top;\n",
       "    }\n",
       "\n",
       "    .dataframe thead th {\n",
       "        text-align: right;\n",
       "    }\n",
       "</style>\n",
       "<table border=\"1\" class=\"dataframe\">\n",
       "  <thead>\n",
       "    <tr style=\"text-align: right;\">\n",
       "      <th></th>\n",
       "      <th>id</th>\n",
       "      <th>type</th>\n",
       "      <th>location</th>\n",
       "      <th>type0</th>\n",
       "      <th>type1</th>\n",
       "    </tr>\n",
       "  </thead>\n",
       "  <tbody>\n",
       "    <tr>\n",
       "      <th>count</th>\n",
       "      <td>119732</td>\n",
       "      <td>119732</td>\n",
       "      <td>119732</td>\n",
       "      <td>119732</td>\n",
       "      <td>119732</td>\n",
       "    </tr>\n",
       "    <tr>\n",
       "      <th>unique</th>\n",
       "      <td>119732</td>\n",
       "      <td>158</td>\n",
       "      <td>116331</td>\n",
       "      <td>23</td>\n",
       "      <td>227</td>\n",
       "    </tr>\n",
       "    <tr>\n",
       "      <th>top</th>\n",
       "      <td>B023B16CAQ</td>\n",
       "      <td>专卖店</td>\n",
       "      <td>120.275826,30.316706</td>\n",
       "      <td>购物服务</td>\n",
       "      <td>专卖店</td>\n",
       "    </tr>\n",
       "    <tr>\n",
       "      <th>freq</th>\n",
       "      <td>1</td>\n",
       "      <td>6867</td>\n",
       "      <td>58</td>\n",
       "      <td>24792</td>\n",
       "      <td>6867</td>\n",
       "    </tr>\n",
       "  </tbody>\n",
       "</table>\n",
       "</div>"
      ],
      "text/plain": [
       "                id    type              location   type0   type1\n",
       "count       119732  119732                119732  119732  119732\n",
       "unique      119732     158                116331      23     227\n",
       "top     B023B16CAQ     专卖店  120.275826,30.316706    购物服务     专卖店\n",
       "freq             1    6867                    58   24792    6867"
      ]
     },
     "execution_count": 8,
     "metadata": {},
     "output_type": "execute_result"
    }
   ],
   "source": [
    "# 发现汽车维修和汽车销售的poi需要调整\n",
    "def clean_type(row):\n",
    "    if (row['type0'] == '汽车维修') or (row['type0'] == '汽车销售'):\n",
    "        return row['type0']\n",
    "    else:\n",
    "        return row['type1']\n",
    "    \n",
    "data['type'] = data.progress_apply(clean_type, axis=1)\n",
    "data.describe()"
   ]
  },
  {
   "cell_type": "code",
   "execution_count": 10,
   "metadata": {
    "ExecuteTime": {
     "end_time": "2021-03-27T01:38:38.809824Z",
     "start_time": "2021-03-27T01:38:38.792401Z"
    }
   },
   "outputs": [
    {
     "name": "stdout",
     "output_type": "stream",
     "text": [
      "加气站 15\n",
      "其它能源站 5\n",
      "知名企业 16\n",
      "出租车 6\n",
      "自来水营业厅 18\n",
      "高尔夫相关 9\n",
      "急救中心 18\n",
      "外国机构 4\n",
      "民主党派 3\n",
      "交通服务相关 4\n",
      "班车站 1\n",
      "公司企业 14\n",
      "服务区 4\n",
      "道路附属设施 2\n",
      "警示信息 1\n",
      "市中心 1\n",
      "公共设施 1\n",
      "事件活动 4\n",
      "特殊通道 1\n",
      "虚拟门 5\n"
     ]
    }
   ],
   "source": [
    "# 统计一些频率过低的POI，删掉\n",
    "types = data['type'].values\n",
    "c = Counter(types)\n",
    "c = dict(c)\n",
    "for k, v in c.items():\n",
    "    if v < 20:\n",
    "        print(k,v)"
   ]
  },
  {
   "cell_type": "code",
   "execution_count": 11,
   "metadata": {
    "ExecuteTime": {
     "end_time": "2021-03-27T01:38:41.419708Z",
     "start_time": "2021-03-27T01:38:41.113530Z"
    }
   },
   "outputs": [
    {
     "data": {
      "text/html": [
       "<div>\n",
       "<style scoped>\n",
       "    .dataframe tbody tr th:only-of-type {\n",
       "        vertical-align: middle;\n",
       "    }\n",
       "\n",
       "    .dataframe tbody tr th {\n",
       "        vertical-align: top;\n",
       "    }\n",
       "\n",
       "    .dataframe thead th {\n",
       "        text-align: right;\n",
       "    }\n",
       "</style>\n",
       "<table border=\"1\" class=\"dataframe\">\n",
       "  <thead>\n",
       "    <tr style=\"text-align: right;\">\n",
       "      <th></th>\n",
       "      <th>id</th>\n",
       "      <th>type</th>\n",
       "      <th>location</th>\n",
       "      <th>type0</th>\n",
       "      <th>type1</th>\n",
       "    </tr>\n",
       "  </thead>\n",
       "  <tbody>\n",
       "    <tr>\n",
       "      <th>count</th>\n",
       "      <td>119600</td>\n",
       "      <td>119600</td>\n",
       "      <td>119600</td>\n",
       "      <td>119600</td>\n",
       "      <td>119600</td>\n",
       "    </tr>\n",
       "    <tr>\n",
       "      <th>unique</th>\n",
       "      <td>119600</td>\n",
       "      <td>138</td>\n",
       "      <td>116201</td>\n",
       "      <td>23</td>\n",
       "      <td>207</td>\n",
       "    </tr>\n",
       "    <tr>\n",
       "      <th>top</th>\n",
       "      <td>B023B16CAQ</td>\n",
       "      <td>专卖店</td>\n",
       "      <td>120.275826,30.316706</td>\n",
       "      <td>购物服务</td>\n",
       "      <td>专卖店</td>\n",
       "    </tr>\n",
       "    <tr>\n",
       "      <th>freq</th>\n",
       "      <td>1</td>\n",
       "      <td>6867</td>\n",
       "      <td>58</td>\n",
       "      <td>24792</td>\n",
       "      <td>6867</td>\n",
       "    </tr>\n",
       "  </tbody>\n",
       "</table>\n",
       "</div>"
      ],
      "text/plain": [
       "                id    type              location   type0   type1\n",
       "count       119600  119600                119600  119600  119600\n",
       "unique      119600     138                116201      23     207\n",
       "top     B023B16CAQ     专卖店  120.275826,30.316706    购物服务     专卖店\n",
       "freq             1    6867                    58   24792    6867"
      ]
     },
     "execution_count": 11,
     "metadata": {},
     "output_type": "execute_result"
    }
   ],
   "source": [
    "data = data[~data.isin({'type':['加气站','其它能源站','知名企业','出租车' ,'自来水营业厅' ,'高尔夫相关' ,'急救中心' ,'外国机构' ,'民主党派' ,\\\n",
    "                            '交通服务相关' ,'班车站' ,'公司企业' ,'服务区' ,'道路附属设施' ,'警示信息','市中心' ,'公共设施' ,'事件活动'  ,'特殊通道','虚拟门']})]\n",
    "data = data.dropna()\n",
    "data.describe()"
   ]
  },
  {
   "cell_type": "code",
   "execution_count": null,
   "metadata": {
    "ExecuteTime": {
     "end_time": "2021-03-27T01:38:43.604699Z",
     "start_time": "2021-03-27T01:38:43.586097Z"
    },
    "scrolled": true
   },
   "outputs": [],
   "source": [
    "idx2type = list(set(data['type']))\n",
    "type_idx = {t:i for i,t in zip(range(len(idx2type)), idx2type)}\n",
    "print(idx2type)\n",
    "print(type_idx)"
   ]
  },
  {
   "cell_type": "code",
   "execution_count": 13,
   "metadata": {
    "ExecuteTime": {
     "end_time": "2021-03-27T01:38:45.974495Z",
     "start_time": "2021-03-27T01:38:45.848585Z"
    }
   },
   "outputs": [
    {
     "data": {
      "text/html": [
       "<div>\n",
       "<style scoped>\n",
       "    .dataframe tbody tr th:only-of-type {\n",
       "        vertical-align: middle;\n",
       "    }\n",
       "\n",
       "    .dataframe tbody tr th {\n",
       "        vertical-align: top;\n",
       "    }\n",
       "\n",
       "    .dataframe thead th {\n",
       "        text-align: right;\n",
       "    }\n",
       "</style>\n",
       "<table border=\"1\" class=\"dataframe\">\n",
       "  <thead>\n",
       "    <tr style=\"text-align: right;\">\n",
       "      <th></th>\n",
       "      <th>type</th>\n",
       "      <th>location</th>\n",
       "    </tr>\n",
       "  </thead>\n",
       "  <tbody>\n",
       "    <tr>\n",
       "      <th>count</th>\n",
       "      <td>119600</td>\n",
       "      <td>119600</td>\n",
       "    </tr>\n",
       "    <tr>\n",
       "      <th>unique</th>\n",
       "      <td>138</td>\n",
       "      <td>116201</td>\n",
       "    </tr>\n",
       "    <tr>\n",
       "      <th>top</th>\n",
       "      <td>专卖店</td>\n",
       "      <td>120.275826,30.316706</td>\n",
       "    </tr>\n",
       "    <tr>\n",
       "      <th>freq</th>\n",
       "      <td>6867</td>\n",
       "      <td>58</td>\n",
       "    </tr>\n",
       "  </tbody>\n",
       "</table>\n",
       "</div>"
      ],
      "text/plain": [
       "          type              location\n",
       "count   119600                119600\n",
       "unique     138                116201\n",
       "top        专卖店  120.275826,30.316706\n",
       "freq      6867                    58"
      ]
     },
     "execution_count": 13,
     "metadata": {},
     "output_type": "execute_result"
    }
   ],
   "source": [
    "# 删除没用的属性\n",
    "del data['type0']\n",
    "del data['type1']\n",
    "del data['id']\n",
    "data.describe()"
   ]
  },
  {
   "cell_type": "code",
   "execution_count": 15,
   "metadata": {
    "ExecuteTime": {
     "end_time": "2021-03-27T01:38:49.986937Z",
     "start_time": "2021-03-27T01:38:49.932697Z"
    }
   },
   "outputs": [],
   "source": [
    "# 把type转成idx\n",
    "def type2idx(types):\n",
    "    res = []\n",
    "    for x in types:\n",
    "        res.append(type_idx[x])\n",
    "    return res\n",
    "        \n",
    "data['type'] = type2idx(data['type'].values)"
   ]
  },
  {
   "cell_type": "code",
   "execution_count": null,
   "metadata": {
    "ExecuteTime": {
     "end_time": "2021-03-27T01:38:52.189397Z",
     "start_time": "2021-03-27T01:38:52.064299Z"
    },
    "scrolled": true
   },
   "outputs": [],
   "source": [
    "location = data['location'].values\n",
    "def parse_location(location):\n",
    "    lons = []\n",
    "    lats = []\n",
    "    for x in location:\n",
    "        lon, lat = x.split(',')\n",
    "        lons.append(float(lon))\n",
    "        lats.append(float(lat))\n",
    "    return lons, lats\n",
    "data['lon'], data['lat'] = parse_location(location)\n",
    "\n",
    "data = data[(data['lon']>=120.0000) & (data['lon']<=120.4784)]\n",
    "data = data[(data['lat']>=30.1334) & (data['lat']<=30.4627)]\n",
    "print(data['lon'][:10])\n",
    "print(data['lat'][:10])"
   ]
  },
  {
   "cell_type": "code",
   "execution_count": 17,
   "metadata": {
    "ExecuteTime": {
     "end_time": "2021-03-27T01:38:57.852257Z",
     "start_time": "2021-03-27T01:38:57.819952Z"
    }
   },
   "outputs": [
    {
     "data": {
      "text/html": [
       "<div>\n",
       "<style scoped>\n",
       "    .dataframe tbody tr th:only-of-type {\n",
       "        vertical-align: middle;\n",
       "    }\n",
       "\n",
       "    .dataframe tbody tr th {\n",
       "        vertical-align: top;\n",
       "    }\n",
       "\n",
       "    .dataframe thead th {\n",
       "        text-align: right;\n",
       "    }\n",
       "</style>\n",
       "<table border=\"1\" class=\"dataframe\">\n",
       "  <thead>\n",
       "    <tr style=\"text-align: right;\">\n",
       "      <th></th>\n",
       "      <th>type</th>\n",
       "      <th>lon</th>\n",
       "      <th>lat</th>\n",
       "    </tr>\n",
       "  </thead>\n",
       "  <tbody>\n",
       "    <tr>\n",
       "      <th>count</th>\n",
       "      <td>119394.000000</td>\n",
       "      <td>119394.000000</td>\n",
       "      <td>119394.000000</td>\n",
       "    </tr>\n",
       "    <tr>\n",
       "      <th>mean</th>\n",
       "      <td>79.429569</td>\n",
       "      <td>120.207289</td>\n",
       "      <td>30.284471</td>\n",
       "    </tr>\n",
       "    <tr>\n",
       "      <th>std</th>\n",
       "      <td>39.702077</td>\n",
       "      <td>0.081118</td>\n",
       "      <td>0.060251</td>\n",
       "    </tr>\n",
       "    <tr>\n",
       "      <th>min</th>\n",
       "      <td>0.000000</td>\n",
       "      <td>120.000000</td>\n",
       "      <td>30.133432</td>\n",
       "    </tr>\n",
       "    <tr>\n",
       "      <th>25%</th>\n",
       "      <td>43.000000</td>\n",
       "      <td>120.160445</td>\n",
       "      <td>30.251562</td>\n",
       "    </tr>\n",
       "    <tr>\n",
       "      <th>50%</th>\n",
       "      <td>89.000000</td>\n",
       "      <td>120.197836</td>\n",
       "      <td>30.285772</td>\n",
       "    </tr>\n",
       "    <tr>\n",
       "      <th>75%</th>\n",
       "      <td>115.000000</td>\n",
       "      <td>120.257107</td>\n",
       "      <td>30.318293</td>\n",
       "    </tr>\n",
       "    <tr>\n",
       "      <th>max</th>\n",
       "      <td>137.000000</td>\n",
       "      <td>120.478362</td>\n",
       "      <td>30.462683</td>\n",
       "    </tr>\n",
       "  </tbody>\n",
       "</table>\n",
       "</div>"
      ],
      "text/plain": [
       "                type            lon            lat\n",
       "count  119394.000000  119394.000000  119394.000000\n",
       "mean       79.429569     120.207289      30.284471\n",
       "std        39.702077       0.081118       0.060251\n",
       "min         0.000000     120.000000      30.133432\n",
       "25%        43.000000     120.160445      30.251562\n",
       "50%        89.000000     120.197836      30.285772\n",
       "75%       115.000000     120.257107      30.318293\n",
       "max       137.000000     120.478362      30.462683"
      ]
     },
     "execution_count": 17,
     "metadata": {},
     "output_type": "execute_result"
    }
   ],
   "source": [
    "data.describe()"
   ]
  },
  {
   "cell_type": "code",
   "execution_count": 18,
   "metadata": {
    "ExecuteTime": {
     "end_time": "2021-03-27T01:39:07.823609Z",
     "start_time": "2021-03-27T01:38:58.907409Z"
    }
   },
   "outputs": [
    {
     "name": "stderr",
     "output_type": "stream",
     "text": [
      "Progress: 100%|██████████| 119394/119394 [00:08<00:00, 13597.29it/s]\n"
     ]
    },
    {
     "data": {
      "text/html": [
       "<div>\n",
       "<style scoped>\n",
       "    .dataframe tbody tr th:only-of-type {\n",
       "        vertical-align: middle;\n",
       "    }\n",
       "\n",
       "    .dataframe tbody tr th {\n",
       "        vertical-align: top;\n",
       "    }\n",
       "\n",
       "    .dataframe thead th {\n",
       "        text-align: right;\n",
       "    }\n",
       "</style>\n",
       "<table border=\"1\" class=\"dataframe\">\n",
       "  <thead>\n",
       "    <tr style=\"text-align: right;\">\n",
       "      <th></th>\n",
       "      <th>type</th>\n",
       "      <th>east</th>\n",
       "      <th>north</th>\n",
       "    </tr>\n",
       "  </thead>\n",
       "  <tbody>\n",
       "    <tr>\n",
       "      <th>count</th>\n",
       "      <td>119394.000000</td>\n",
       "      <td>119394.000000</td>\n",
       "      <td>1.193940e+05</td>\n",
       "    </tr>\n",
       "    <tr>\n",
       "      <th>mean</th>\n",
       "      <td>79.429569</td>\n",
       "      <td>231368.117090</td>\n",
       "      <td>3.353614e+06</td>\n",
       "    </tr>\n",
       "    <tr>\n",
       "      <th>std</th>\n",
       "      <td>39.702077</td>\n",
       "      <td>7815.318756</td>\n",
       "      <td>6.673807e+03</td>\n",
       "    </tr>\n",
       "    <tr>\n",
       "      <th>min</th>\n",
       "      <td>0.000000</td>\n",
       "      <td>211079.122959</td>\n",
       "      <td>3.336353e+06</td>\n",
       "    </tr>\n",
       "    <tr>\n",
       "      <th>25%</th>\n",
       "      <td>43.000000</td>\n",
       "      <td>226816.881435</td>\n",
       "      <td>3.350015e+06</td>\n",
       "    </tr>\n",
       "    <tr>\n",
       "      <th>50%</th>\n",
       "      <td>89.000000</td>\n",
       "      <td>230420.059748</td>\n",
       "      <td>3.353864e+06</td>\n",
       "    </tr>\n",
       "    <tr>\n",
       "      <th>75%</th>\n",
       "      <td>115.000000</td>\n",
       "      <td>236169.800852</td>\n",
       "      <td>3.357287e+06</td>\n",
       "    </tr>\n",
       "    <tr>\n",
       "      <th>max</th>\n",
       "      <td>137.000000</td>\n",
       "      <td>257610.124387</td>\n",
       "      <td>3.373519e+06</td>\n",
       "    </tr>\n",
       "  </tbody>\n",
       "</table>\n",
       "</div>"
      ],
      "text/plain": [
       "                type           east         north\n",
       "count  119394.000000  119394.000000  1.193940e+05\n",
       "mean       79.429569  231368.117090  3.353614e+06\n",
       "std        39.702077    7815.318756  6.673807e+03\n",
       "min         0.000000  211079.122959  3.336353e+06\n",
       "25%        43.000000  226816.881435  3.350015e+06\n",
       "50%        89.000000  230420.059748  3.353864e+06\n",
       "75%       115.000000  236169.800852  3.357287e+06\n",
       "max       137.000000  257610.124387  3.373519e+06"
      ]
     },
     "execution_count": 18,
     "metadata": {},
     "output_type": "execute_result"
    }
   ],
   "source": [
    "def wgs84_2_xy(row):\n",
    "    east, north, _, _ = from_latlon(row['lat'], row['lon'])#from_latlon()函数将经纬度转换成XY坐标\n",
    "    return east, north\n",
    "\n",
    "data[\"east\"], data[\"north\"] = zip(*data.progress_apply(wgs84_2_xy, axis=1))\n",
    "data = data.drop(columns=['lon','lat']) # 删除原始的经纬度坐标\n",
    "data.describe()"
   ]
  },
  {
   "cell_type": "code",
   "execution_count": 19,
   "metadata": {
    "ExecuteTime": {
     "end_time": "2021-03-27T01:39:14.396229Z",
     "start_time": "2021-03-27T01:39:14.389860Z"
    }
   },
   "outputs": [
    {
     "name": "stdout",
     "output_type": "stream",
     "text": [
      "210978.74293036625 3337368.0197867323\n",
      "257895.39660109906 3372760.1071537775\n",
      "237810.50672122062 3336694.8923783028\n",
      "211944.20813006174 3373883.5253603132\n"
     ]
    }
   ],
   "source": [
    "la = [(30.1334, 120.0000), (30.4627, 120.4784),(30.1334, 120.2784), (30.4627, 120.0000)]\n",
    "for lat,lon in la:\n",
    "    east, north, _, _ = from_latlon(lat, lon)\n",
    "    print(east,north)"
   ]
  },
  {
   "cell_type": "code",
   "execution_count": 20,
   "metadata": {
    "ExecuteTime": {
     "end_time": "2021-03-27T01:39:16.181220Z",
     "start_time": "2021-03-27T01:39:16.146763Z"
    }
   },
   "outputs": [
    {
     "data": {
      "text/html": [
       "<div>\n",
       "<style scoped>\n",
       "    .dataframe tbody tr th:only-of-type {\n",
       "        vertical-align: middle;\n",
       "    }\n",
       "\n",
       "    .dataframe tbody tr th {\n",
       "        vertical-align: top;\n",
       "    }\n",
       "\n",
       "    .dataframe thead th {\n",
       "        text-align: right;\n",
       "    }\n",
       "</style>\n",
       "<table border=\"1\" class=\"dataframe\">\n",
       "  <thead>\n",
       "    <tr style=\"text-align: right;\">\n",
       "      <th></th>\n",
       "      <th>type</th>\n",
       "      <th>east</th>\n",
       "      <th>north</th>\n",
       "    </tr>\n",
       "  </thead>\n",
       "  <tbody>\n",
       "    <tr>\n",
       "      <th>count</th>\n",
       "      <td>119394.000000</td>\n",
       "      <td>119394.000000</td>\n",
       "      <td>119394.000000</td>\n",
       "    </tr>\n",
       "    <tr>\n",
       "      <th>mean</th>\n",
       "      <td>79.429569</td>\n",
       "      <td>20390.117090</td>\n",
       "      <td>16919.715414</td>\n",
       "    </tr>\n",
       "    <tr>\n",
       "      <th>std</th>\n",
       "      <td>39.702077</td>\n",
       "      <td>7815.318756</td>\n",
       "      <td>6673.807082</td>\n",
       "    </tr>\n",
       "    <tr>\n",
       "      <th>min</th>\n",
       "      <td>0.000000</td>\n",
       "      <td>101.122959</td>\n",
       "      <td>-340.626291</td>\n",
       "    </tr>\n",
       "    <tr>\n",
       "      <th>25%</th>\n",
       "      <td>43.000000</td>\n",
       "      <td>15838.881435</td>\n",
       "      <td>13320.650297</td>\n",
       "    </tr>\n",
       "    <tr>\n",
       "      <th>50%</th>\n",
       "      <td>89.000000</td>\n",
       "      <td>19442.059748</td>\n",
       "      <td>17170.424172</td>\n",
       "    </tr>\n",
       "    <tr>\n",
       "      <th>75%</th>\n",
       "      <td>115.000000</td>\n",
       "      <td>25191.800852</td>\n",
       "      <td>20593.124471</td>\n",
       "    </tr>\n",
       "    <tr>\n",
       "      <th>max</th>\n",
       "      <td>137.000000</td>\n",
       "      <td>46632.124387</td>\n",
       "      <td>36824.594580</td>\n",
       "    </tr>\n",
       "  </tbody>\n",
       "</table>\n",
       "</div>"
      ],
      "text/plain": [
       "                type           east          north\n",
       "count  119394.000000  119394.000000  119394.000000\n",
       "mean       79.429569   20390.117090   16919.715414\n",
       "std        39.702077    7815.318756    6673.807082\n",
       "min         0.000000     101.122959    -340.626291\n",
       "25%        43.000000   15838.881435   13320.650297\n",
       "50%        89.000000   19442.059748   17170.424172\n",
       "75%       115.000000   25191.800852   20593.124471\n",
       "max       137.000000   46632.124387   36824.594580"
      ]
     },
     "execution_count": 20,
     "metadata": {},
     "output_type": "execute_result"
    }
   ],
   "source": [
    "data['east'] = data['east'] - 210978\n",
    "data['north'] = data['north'] - 3336694\n",
    "data.describe()"
   ]
  },
  {
   "cell_type": "code",
   "execution_count": 22,
   "metadata": {
    "ExecuteTime": {
     "end_time": "2021-03-27T01:39:22.621121Z",
     "start_time": "2021-03-27T01:39:22.604338Z"
    }
   },
   "outputs": [],
   "source": [
    "class Region:\n",
    "    def __init__(self, east, north, e_rs, n_rs):\n",
    "        self.global_width = east + 1 # 地图宽度\n",
    "        self.global_height = north + 1 # 地图高度\n",
    "        self.xs = e_rs # 横向区域数\n",
    "        self.ys = n_rs # 纵向区域数\n",
    "        self.__region_width = self.global_width / self.xs # 区域宽度        \n",
    "        self.__region_height = self.global_height / self.ys # 区域高度\n",
    "        self.__region_bounds = None # 每个区域的起始坐标\n",
    "        self.__region_map = None # 起始坐标映射到区域\n",
    "        self.__tokenization()\n",
    "    def mapping(self, locations):\n",
    "        \"\"\"\n",
    "        locations: [[e,n],...] 列表，包含东北坐标元素\n",
    "        \n",
    "        return: regions [region_id,...] 返回坐标所属的区域id\n",
    "                xs [x,...]\n",
    "                ys [y,...]\n",
    "        \"\"\"\n",
    "        locs = np.array(locations)\n",
    "        # -> n x 2\n",
    "        # 向下取整\n",
    "        xs=locs[:,0].reshape(-1,1) // self.__region_width\n",
    "        ys=locs[:,1].reshape(-1,1) // self.__region_height\n",
    "        es = xs * self.__region_width\n",
    "        ns = ys * self.__region_height\n",
    "\n",
    "        es = es.astype('int64')\n",
    "        ns = ns.astype('int64')\n",
    "        \n",
    "        locs = np.concatenate([es,ns] ,axis = 1)\n",
    "        locs = [(x,y) for x,y in locs]\n",
    "        \n",
    "        regions = []\n",
    "\n",
    "        for t in locs:\n",
    "            assert t[0]< self.global_width and t[1] < self.global_height, \"{},{}坐标超出边界！\".format(t[0],t[1])\n",
    "            regions.append(self.__region_map[t])\n",
    "        return regions, xs.astype('int64'), ys.astype('int64')\n",
    "    \n",
    "    def __tokenization(self):\n",
    "        idxs = range(self.xs * self.ys)\n",
    "        \n",
    "        # 按照米\n",
    "        x_bounds = [int(self.__region_width * i) for i in range(self.xs)]\n",
    "        y_bounds = [int(self.__region_height * i) for i in range(self.ys)]\n",
    "        self.__region_bounds = [(x,y) for x in x_bounds for y in y_bounds]\n",
    "        self.__region_map = {bound:idx for bound,idx in zip(self.__region_bounds,idxs)}\n",
    "        \n",
    "        self.id2xy = [(x,y) for x in range(self.xs) for y in range(self.ys)]\n",
    "        self.xy2id = {(x,y):idx for idx,(x,y) in zip(idxs,self.id2xy)}\n",
    "        \n",
    "    def details(self):\n",
    "        print(\"地图宽度{},地图高度{}\".format(self.global_width,self.global_height))\n",
    "        print(\"区域宽度{}，区域高度{}\".format(self.__region_width,self.__region_height))\n",
    "        "
   ]
  },
  {
   "cell_type": "code",
   "execution_count": 23,
   "metadata": {
    "ExecuteTime": {
     "end_time": "2021-03-27T01:39:33.687851Z",
     "start_time": "2021-03-27T01:39:33.680350Z"
    }
   },
   "outputs": [
    {
     "name": "stdout",
     "output_type": "stream",
     "text": [
      "地图宽度46918,地图高度37190\n",
      "区域宽度1466.1875，区域高度1162.1875\n"
     ]
    }
   ],
   "source": [
    "# 计算边界，用于划分区域，正式试验数据\n",
    "east_zero = 210978\n",
    "north_zero = 3336694\n",
    "east_max = 257895 - east_zero\n",
    "north_max = 3373883 - north_zero\n",
    "side_len = 32 # 一边的网格数\n",
    "region = Region(east_max, north_max, side_len, side_len)\n",
    "region.details()"
   ]
  },
  {
   "cell_type": "code",
   "execution_count": null,
   "metadata": {
    "ExecuteTime": {
     "end_time": "2021-03-27T01:39:37.756308Z",
     "start_time": "2021-03-27T01:39:37.732113Z"
    },
    "scrolled": true
   },
   "outputs": [],
   "source": [
    "data = data[(data['north'] > 0) & (data['east'] > 0)]\n",
    "data.describe()"
   ]
  },
  {
   "cell_type": "code",
   "execution_count": 25,
   "metadata": {
    "ExecuteTime": {
     "end_time": "2021-03-27T01:40:03.849759Z",
     "start_time": "2021-03-27T01:40:03.845577Z"
    }
   },
   "outputs": [],
   "source": [
    "names=['id','lon','lat','state','date','time']\n",
    "# dtypes = {'id' : int,'lon' : float, 'lat': float,'state' : int,'date' : int, \\\n",
    "#           'time' : }"
   ]
  },
  {
   "cell_type": "code",
   "execution_count": 26,
   "metadata": {
    "ExecuteTime": {
     "end_time": "2021-03-27T01:40:07.529671Z",
     "start_time": "2021-03-27T01:40:07.044434Z"
    },
    "scrolled": true
   },
   "outputs": [
    {
     "data": {
      "text/html": [
       "<div>\n",
       "<style scoped>\n",
       "    .dataframe tbody tr th:only-of-type {\n",
       "        vertical-align: middle;\n",
       "    }\n",
       "\n",
       "    .dataframe tbody tr th {\n",
       "        vertical-align: top;\n",
       "    }\n",
       "\n",
       "    .dataframe thead th {\n",
       "        text-align: right;\n",
       "    }\n",
       "</style>\n",
       "<table border=\"1\" class=\"dataframe\">\n",
       "  <thead>\n",
       "    <tr style=\"text-align: right;\">\n",
       "      <th></th>\n",
       "      <th>type</th>\n",
       "      <th>region</th>\n",
       "      <th>x</th>\n",
       "      <th>y</th>\n",
       "    </tr>\n",
       "  </thead>\n",
       "  <tbody>\n",
       "    <tr>\n",
       "      <th>count</th>\n",
       "      <td>119375.000000</td>\n",
       "      <td>119375.000000</td>\n",
       "      <td>119375.000000</td>\n",
       "      <td>119375.000000</td>\n",
       "    </tr>\n",
       "    <tr>\n",
       "      <th>mean</th>\n",
       "      <td>79.427996</td>\n",
       "      <td>443.023765</td>\n",
       "      <td>13.405043</td>\n",
       "      <td>14.062392</td>\n",
       "    </tr>\n",
       "    <tr>\n",
       "      <th>std</th>\n",
       "      <td>39.703266</td>\n",
       "      <td>171.120895</td>\n",
       "      <td>5.336957</td>\n",
       "      <td>5.748466</td>\n",
       "    </tr>\n",
       "    <tr>\n",
       "      <th>min</th>\n",
       "      <td>0.000000</td>\n",
       "      <td>0.000000</td>\n",
       "      <td>0.000000</td>\n",
       "      <td>0.000000</td>\n",
       "    </tr>\n",
       "    <tr>\n",
       "      <th>25%</th>\n",
       "      <td>43.000000</td>\n",
       "      <td>335.000000</td>\n",
       "      <td>10.000000</td>\n",
       "      <td>11.000000</td>\n",
       "    </tr>\n",
       "    <tr>\n",
       "      <th>50%</th>\n",
       "      <td>89.000000</td>\n",
       "      <td>426.000000</td>\n",
       "      <td>13.000000</td>\n",
       "      <td>14.000000</td>\n",
       "    </tr>\n",
       "    <tr>\n",
       "      <th>75%</th>\n",
       "      <td>115.000000</td>\n",
       "      <td>547.000000</td>\n",
       "      <td>17.000000</td>\n",
       "      <td>17.000000</td>\n",
       "    </tr>\n",
       "    <tr>\n",
       "      <th>max</th>\n",
       "      <td>137.000000</td>\n",
       "      <td>1022.000000</td>\n",
       "      <td>31.000000</td>\n",
       "      <td>31.000000</td>\n",
       "    </tr>\n",
       "  </tbody>\n",
       "</table>\n",
       "</div>"
      ],
      "text/plain": [
       "                type         region              x              y\n",
       "count  119375.000000  119375.000000  119375.000000  119375.000000\n",
       "mean       79.427996     443.023765      13.405043      14.062392\n",
       "std        39.703266     171.120895       5.336957       5.748466\n",
       "min         0.000000       0.000000       0.000000       0.000000\n",
       "25%        43.000000     335.000000      10.000000      11.000000\n",
       "50%        89.000000     426.000000      13.000000      14.000000\n",
       "75%       115.000000     547.000000      17.000000      17.000000\n",
       "max       137.000000    1022.000000      31.000000      31.000000"
      ]
     },
     "execution_count": 26,
     "metadata": {},
     "output_type": "execute_result"
    }
   ],
   "source": [
    "locations = data[['east','north']].values.tolist() #locations: [[e,n],...] 列表，包含东北坐标元素\n",
    "data['region'], data['x'], data['y'] = region.mapping(locations)\n",
    "data = data.drop(columns=['east','north'])\n",
    "data.describe()"
   ]
  },
  {
   "cell_type": "code",
   "execution_count": 28,
   "metadata": {
    "ExecuteTime": {
     "end_time": "2021-03-27T01:43:33.202680Z",
     "start_time": "2021-03-27T01:43:33.200061Z"
    }
   },
   "outputs": [],
   "source": [
    "####################################################\n",
    "# 出租车数据处理\n",
    "####################################################"
   ]
  },
  {
   "cell_type": "code",
   "execution_count": 192,
   "metadata": {
    "ExecuteTime": {
     "end_time": "2021-03-28T09:43:15.957808Z",
     "start_time": "2021-03-28T09:43:08.862532Z"
    }
   },
   "outputs": [],
   "source": [
    "# 数据装载 day01.txt\n",
    "names=['id','lon','lat', 'state', 'date', 'time']\n",
    "df = pd.read_csv('../data/taxi_raw_data/data01.txt', sep = ' ',names=names )"
   ]
  },
  {
   "cell_type": "code",
   "execution_count": 194,
   "metadata": {
    "ExecuteTime": {
     "end_time": "2021-03-28T09:43:49.641980Z",
     "start_time": "2021-03-28T09:43:37.043016Z"
    }
   },
   "outputs": [],
   "source": [
    "def data_cleansing(df):\n",
    "    \"\"\"\n",
    "    Data cleansing function.\n",
    "    1. Delete the invalid state.\n",
    "    2. Delete the invalid time and format time \n",
    "    2. Consistent with the poi data set.\n",
    "    \n",
    "    Parameters:\n",
    "     df - (pandas.Dataframe) Data to cleansing.\n",
    "     \n",
    "    Returns:\n",
    "     Data (Dataframe)\n",
    "    \"\"\"\n",
    "    df = df[df['state'].isin([1, 2])]\n",
    "    df = df[df['time'].apply(lambda x : x[:x.find(':')]).astype(int) <= 24]\n",
    "    df = df.dropna(axis = 0) # 删除缺失数据 \n",
    "    df = df[(df['lon'] > 1.2e2) & (df['lon'] < 1.204784e2) & (df['lat'] > 3.01334e1) & (df['lat'] < 3.04627e1)]\n",
    "    df['new_time'] = df['time'].apply(lambda x : ''.join(x.split(':')))\n",
    "    df['date'] = df['date'].apply(lambda x : ''.join(x.split('-')))\n",
    "    df['convert_time'] = df['date'] + df['new_time']\n",
    "    del df['date']\n",
    "    df = df[df['convert_time'].apply(lambda x : len(str(x))) <= 13]\n",
    "    del df['new_time']\n",
    "    return df\n",
    "df = data_cleansing(df)"
   ]
  },
  {
   "cell_type": "code",
   "execution_count": 195,
   "metadata": {
    "ExecuteTime": {
     "end_time": "2021-03-28T09:44:07.954258Z",
     "start_time": "2021-03-28T09:44:07.582475Z"
    }
   },
   "outputs": [
    {
     "data": {
      "text/html": [
       "<div>\n",
       "<style scoped>\n",
       "    .dataframe tbody tr th:only-of-type {\n",
       "        vertical-align: middle;\n",
       "    }\n",
       "\n",
       "    .dataframe tbody tr th {\n",
       "        vertical-align: top;\n",
       "    }\n",
       "\n",
       "    .dataframe thead th {\n",
       "        text-align: right;\n",
       "    }\n",
       "</style>\n",
       "<table border=\"1\" class=\"dataframe\">\n",
       "  <thead>\n",
       "    <tr style=\"text-align: right;\">\n",
       "      <th></th>\n",
       "      <th>lon</th>\n",
       "      <th>lat</th>\n",
       "      <th>state</th>\n",
       "    </tr>\n",
       "  </thead>\n",
       "  <tbody>\n",
       "    <tr>\n",
       "      <th>count</th>\n",
       "      <td>4.624880e+06</td>\n",
       "      <td>4.624880e+06</td>\n",
       "      <td>4.624880e+06</td>\n",
       "    </tr>\n",
       "    <tr>\n",
       "      <th>mean</th>\n",
       "      <td>1.201689e+02</td>\n",
       "      <td>3.028237e+01</td>\n",
       "      <td>1.492861e+00</td>\n",
       "    </tr>\n",
       "    <tr>\n",
       "      <th>std</th>\n",
       "      <td>7.085422e-02</td>\n",
       "      <td>4.081487e-02</td>\n",
       "      <td>4.999491e-01</td>\n",
       "    </tr>\n",
       "    <tr>\n",
       "      <th>min</th>\n",
       "      <td>1.200000e+02</td>\n",
       "      <td>3.013342e+01</td>\n",
       "      <td>1.000000e+00</td>\n",
       "    </tr>\n",
       "    <tr>\n",
       "      <th>25%</th>\n",
       "      <td>1.201282e+02</td>\n",
       "      <td>3.025617e+01</td>\n",
       "      <td>1.000000e+00</td>\n",
       "    </tr>\n",
       "    <tr>\n",
       "      <th>50%</th>\n",
       "      <td>1.201616e+02</td>\n",
       "      <td>3.028398e+01</td>\n",
       "      <td>1.000000e+00</td>\n",
       "    </tr>\n",
       "    <tr>\n",
       "      <th>75%</th>\n",
       "      <td>1.201864e+02</td>\n",
       "      <td>3.031156e+01</td>\n",
       "      <td>2.000000e+00</td>\n",
       "    </tr>\n",
       "    <tr>\n",
       "      <th>max</th>\n",
       "      <td>1.204782e+02</td>\n",
       "      <td>3.046265e+01</td>\n",
       "      <td>2.000000e+00</td>\n",
       "    </tr>\n",
       "  </tbody>\n",
       "</table>\n",
       "</div>"
      ],
      "text/plain": [
       "                lon           lat         state\n",
       "count  4.624880e+06  4.624880e+06  4.624880e+06\n",
       "mean   1.201689e+02  3.028237e+01  1.492861e+00\n",
       "std    7.085422e-02  4.081487e-02  4.999491e-01\n",
       "min    1.200000e+02  3.013342e+01  1.000000e+00\n",
       "25%    1.201282e+02  3.025617e+01  1.000000e+00\n",
       "50%    1.201616e+02  3.028398e+01  1.000000e+00\n",
       "75%    1.201864e+02  3.031156e+01  2.000000e+00\n",
       "max    1.204782e+02  3.046265e+01  2.000000e+00"
      ]
     },
     "execution_count": 195,
     "metadata": {},
     "output_type": "execute_result"
    }
   ],
   "source": [
    "df.describe()"
   ]
  },
  {
   "cell_type": "code",
   "execution_count": null,
   "metadata": {
    "ExecuteTime": {
     "end_time": "2021-03-28T09:44:20.675602Z",
     "start_time": "2021-03-28T09:44:18.301221Z"
    }
   },
   "outputs": [],
   "source": [
    "def data_day2hours(df):\n",
    "    \"\"\"\n",
    "    Divide the daily data to hours data.\n",
    "    \n",
    "    Parameters:\n",
    "     df - (pandas.Dataframe) Daily data.\n",
    "     \n",
    "    Returns:\n",
    "     Hours data (list)\n",
    " \n",
    "    Raises:\n",
    "     None, todo\n",
    "    \"\"\"\n",
    "    \n",
    "    hours_data = []\n",
    "    # 直接截取字符串获取小时进行group\n",
    "    df['hour'] = df['time'].apply(lambda x : x[ : x.find(':')]).astype(int)\n",
    "    for i,g in df.groupby(\"hour\"):  \n",
    "        print(i)\n",
    "        hours_data.append(g)\n",
    "    return hours_data\n",
    "hours_data = data_day2hours(df)"
   ]
  },
  {
   "cell_type": "code",
   "execution_count": 24,
   "metadata": {
    "ExecuteTime": {
     "end_time": "2021-03-29T02:33:53.422653Z",
     "start_time": "2021-03-29T02:33:53.415836Z"
    }
   },
   "outputs": [],
   "source": [
    "def cal_matrix(source, region, **kwargs):\n",
    "    \"\"\"\n",
    "    Calculate Correlation matrix(region_side_len**2, region_side_len**2)\n",
    "\n",
    "    Parameters:\n",
    "     source - (pandas.Dataframe) Hour data.\n",
    "     region - (Region) Urban region object\n",
    "     \n",
    "    Returns:\n",
    "     corr_matrix\n",
    " \n",
    "    Raises:\n",
    "     None, todo\n",
    "    \"\"\"\n",
    "    side_len = region.xs\n",
    "    df = source\n",
    "    df = df[['id','lon','lat','state','time', 'convert_time']]\n",
    "    # 墨卡托投影\n",
    "    df[\"east\"], df[\"north\"] = zip(*df.progress_apply(wgs84_2_xy, axis=1))\n",
    "    df = df.drop(columns=['lon','lat']) # 删除原始的经纬度坐标\n",
    "    df['east'] = df['east'] - east_zero\n",
    "    df['north'] = df['north'] - north_zero\n",
    "    df=df[(df['east'] > 0) & (df['north'] > 0)]\n",
    "    locations = df[['east','north']].values.tolist() #locations: [[e,n],...] 列表，包含东北坐标元素\n",
    "    df['region'], df['x'], df['y'] = region.mapping(locations)\n",
    "    df = df.drop(columns=['east','north'])\n",
    "    # df -> (id, state, time, convert_time, x, y, region)\n",
    "    print(df)\n",
    "    corr_matrix = cal_corr(df, side_len)\n",
    "    return corr_matrix"
   ]
  },
  {
   "cell_type": "code",
   "execution_count": 23,
   "metadata": {
    "ExecuteTime": {
     "end_time": "2021-03-29T02:33:47.160225Z",
     "start_time": "2021-03-29T02:33:47.147637Z"
    }
   },
   "outputs": [],
   "source": [
    "def cal_corr(source, side_len, **kwargs):\n",
    "    \"\"\"\n",
    "    The core of calculate Correlation matrix(region_side_len**2, region_side_len**2)\n",
    "\n",
    "    Parameters:\n",
    "     source - (pandas.Dataframe) Hour data.\n",
    "     side_len - (int) The length of urban region side\n",
    "     \n",
    "    Returns:\n",
    "     corr_matrix\n",
    " \n",
    "    Raises:\n",
    "     None, todo\n",
    "    \"\"\"\n",
    "    df = copy.deepcopy(source)\n",
    "    res = np.zeros((side_len**2, side_len**2))\n",
    "    \n",
    "    df = df.groupby(['id'])\n",
    "    for id, g in df:\n",
    "        data = copy.deepcopy(g)\n",
    "        \n",
    "        data = data.sort_values(by='convert_time',ascending=True)\n",
    "        data['state_1']=data['state'].shift(1)#下移一个数\n",
    "        data['change']=data['state'] - data['state_1']\n",
    "        data = data[(data['change'] == 1) | (data['change'] == -1)]\n",
    "        data = data.reset_index(drop=True)\n",
    "        if len(data) and data.at[0,'change'] == -1: # 开头必须是上车\n",
    "            data = data[1:]\n",
    "                    \n",
    "        if len(data) and len(data) % 2 != 0:\n",
    "            data = data[0:-1]\n",
    "        data = data.reset_index(drop=True)\n",
    "\n",
    "        for i in range(0, len(data), 2):\n",
    "            pick_up = data.at[i,'region']\n",
    "            get_off = data.at[i+1,'region']\n",
    "            res[pick_up, get_off] = res[pick_up, get_off] + 1\n",
    "    return res"
   ]
  },
  {
   "cell_type": "code",
   "execution_count": null,
   "metadata": {
    "ExecuteTime": {
     "end_time": "2021-03-28T02:29:04.046117Z",
     "start_time": "2021-03-28T02:24:33.542402Z"
    }
   },
   "outputs": [],
   "source": [
    "# 测试day01.txt\n",
    "corr_seq = []\n",
    "for i,d in enumerate(hours_data):\n",
    "    print('hour',i)\n",
    "    print('size', len(d))\n",
    "    t0 = time.time()\n",
    "    corr= cal_matrix(d, region)\n",
    "    print(corr)\n",
    "    corr_seq.append(corr)\n",
    "#     np.save(\"../clean_data/\" + )\n",
    "    t1 = time.time()\n",
    "    print('process cost', t1-t0,'s')"
   ]
  },
  {
   "cell_type": "code",
   "execution_count": 167,
   "metadata": {
    "ExecuteTime": {
     "end_time": "2021-03-28T04:30:39.836621Z",
     "start_time": "2021-03-28T04:30:39.828753Z"
    }
   },
   "outputs": [],
   "source": [
    "# 封装为函数\n",
    "def process(hours_data, region):\n",
    "    corr_seq = []\n",
    "    for i,d in enumerate(hours_data):\n",
    "        print('hour',i)\n",
    "        print('size', len(d))\n",
    "        t0 = time.time()\n",
    "        corr= cal_matrix(d, region)\n",
    "        print(corr)\n",
    "        corr_seq.append(corr)\n",
    "        # np.save(\"../clean_data/\" + )\n",
    "        t1 = time.time()\n",
    "        print('process cost', t1-t0,'s')\n",
    "    return corr_seq"
   ]
  },
  {
   "cell_type": "code",
   "execution_count": null,
   "metadata": {
    "ExecuteTime": {
     "end_time": "2021-03-28T16:05:40.593060Z",
     "start_time": "2021-03-28T09:44:46.522839Z"
    }
   },
   "outputs": [],
   "source": [
    "# 测试整个文件夹\n",
    "for root, dirs, files in os.walk(\"../data/taxi_raw_data/\", topdown=False):\n",
    "    del files[0]\n",
    "    for name in files:\n",
    "        filepath = os.path.join(root, name)\n",
    "        print('##############处理'+filepath+'##################')\n",
    "        print(filepath)\n",
    "        # 数据装载\n",
    "        names=['id','lon','lat', 'state', 'date', 'time']\n",
    "        df = pd.read_csv(filepath, sep = ' ',names=names )\n",
    "        # 数据清理\n",
    "        df = data_cleansing(df)\n",
    "        # 转换为小时数据\n",
    "        hours_data = data_day2hours(df)\n",
    "        corr_seq = process(hours_data, region)\n",
    "        np.save('../clean_data/'+name[:name.find('.')], corr_seq)\n",
    "        print('##############'+filepath+'处理文完毕##################')"
   ]
  },
  {
   "cell_type": "code",
   "execution_count": null,
   "metadata": {},
   "outputs": [],
   "source": []
  }
 ],
 "metadata": {
  "kernelspec": {
   "display_name": "Python 3",
   "language": "python",
   "name": "python3"
  },
  "language_info": {
   "codemirror_mode": {
    "name": "ipython",
    "version": 3
   },
   "file_extension": ".py",
   "mimetype": "text/x-python",
   "name": "python",
   "nbconvert_exporter": "python",
   "pygments_lexer": "ipython3",
   "version": "3.7.6"
  }
 },
 "nbformat": 4,
 "nbformat_minor": 4
}
